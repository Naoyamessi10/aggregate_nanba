{
 "cells": [
  {
   "cell_type": "markdown",
   "metadata": {},
   "source": [
    "# Cogent Labsの「Tegaki」APIに接続する\n",
    "https://www.tegaki.ai/<br>\n",
    "<br>\n",
    "【はじめに】<br>\n",
    "「1-1. ライブラリインポート、定数の読み込み」を実行します。<br>\n",
    "「1-2. 関数の読み込み」を実行します。<br>\n",
    "<br>\n",
    "【手書き文字を認識させる】<br>\n",
    "「2-1. 手書き文字認識用パラメータの読み込み」において、下記パラメータを適切なものに書き換えます。<br>\n",
    "> テンプレートJSONファイル<br>\n",
    "> 手書き画像が格納されているディレクトリ<br>\n",
    "> 手書き画像_リクエストIDの紐づけファイルを出力するディレクトリ<br>\n",
    "\n",
    "「2-2. 手書き文字認識リクエスト、手書き画像_リクエストID紐付け情報の出力」を実行します。<br>\n",
    "<br>\n",
    "【認識結果の取得】<br>\n",
    "「3-1. 認識結果取得用パラメータの読み込み」において、下記パラメータを適切なものに書き換えます。<br>\n",
    "> 手書き画像_リクエストIDの紐づけファイルを取得するディレクトリ<br>\n",
    "> 認識結果を出力するディレクトリ<br>\n",
    "\n",
    "「3-2. 認識結果取得」を実行します。<br>\n",
    "<br>\n",
    "【修正結果の取得】<br>\n",
    "「4-1. 修正結果取得用パラメータの読み込み」において、下記パラメータを適切なものに書き換えます。<br>\n",
    "> 手書き画像_リクエストIDの紐づけファイルを取得するディレクトリ<br>\n",
    "> 修正結果を出力するディレクトリ<br>\n",
    "\n",
    "「4-2. 認識結果取得」を実行します。<br>\n",
    "<br>\n",
    "【データの削除】<br>\n",
    "「5-1. 削除対象リクエストID取得用パラメータの読み込み」において、下記パラメータを適切なものに書き換えます。<br>\n",
    "> 手書き画像_リクエストIDの紐づけファイルを取得するディレクトリ<br>\n",
    "\n",
    "「5-2. データ削除」を実行します。Response [204]が表示されれば、正常に削除されています。<br>\n",
    "\n"
   ]
  },
  {
   "cell_type": "markdown",
   "metadata": {},
   "source": [
    "# ディレクトリ構成\n",
    "教材ごとに複数のフォームを持つため、フォームごとにテンプレートを準備します。<br>\n",
    "<img src=\"resources/0000_ポートフォリオ_日々の記録_テンプレート.png\" style=\"width:800px\"><br>\n",
    "<br>\n",
    "手書き画像をまとめて1つのディレクトリに配置します。<br>\n",
    "<img src=\"resources/0001_ポートフォリオ_日々の記録_手書き画像.png\" style=\"width:800px\"><br>\n",
    "<br>\n",
    "認識結果にはリクエスト番号がそれぞれ採番されます。<br>\n",
    "<img src=\"resources/0002_ポートフォリオ_日々の記録_認識結果.png\" style=\"width:800px\"><br>\n",
    "<br>\n",
    "認識結果と同じ番号で修正結果が上書きされます。<br>\n",
    "<img src=\"resources/0003_ポートフォリオ_日々の記録_修正結果.png\" style=\"width:800px\"><br>\n",
    "<br>\n",
    "手書き画像とリクエスト番号の紐付けは対応表を参照します。<br>\n",
    "<img src=\"resources/0004_ポートフォリオ_日々の記録_対応表.png\" style=\"width:800px\"><br>\n",
    "\n"
   ]
  },
  {
   "cell_type": "markdown",
   "metadata": {},
   "source": [
    "# はじめに"
   ]
  },
  {
   "cell_type": "code",
   "execution_count": 1,
   "metadata": {},
   "outputs": [],
   "source": [
    "# ========= 1-1. ライブラリインポート、定数の読み込み ==========\n",
    "\n",
    "#!/usr/bin/python3\n",
    "\n",
    "# ライブラリのインポート\n",
    "import base64\n",
    "import json\n",
    "import requests\n",
    "from IPython.display import display\n",
    "#import fileupload\n",
    "import glob\n",
    "import pandas as pd\n",
    "from datetime import datetime\n",
    "\n",
    "# 定数\n",
    "# APIエンドポイント（フォーム送信）\n",
    "TEGAKI_FORM_ENDPOINT = 'https://api.tegaki.ai/hwr/v2/form'\n",
    "# APIエンドポイント（リクエスト送信）\n",
    "TEGAKI_REQUEST_ENDPOINT = 'https://api.tegaki.ai/hwr/v2/request/'\n",
    "\n",
    "# アクセスキー\n",
    "MY_API_KEY = '2b8b291f-164e-459d-80a6-d7bc93722cf6'\n"
   ]
  },
  {
   "cell_type": "code",
   "execution_count": 2,
   "metadata": {},
   "outputs": [],
   "source": [
    "# ========= 1-2. 関数の読み込み ==========\n",
    "\n",
    "\"\"\"\n",
    "画像をbase64に変換する\n",
    "\"\"\"\n",
    "def encode_image(image):\n",
    "    image_content = image.read()\n",
    "    return base64.b64encode(image_content).decode('utf-8')\n",
    "\n",
    "\n",
    "\"\"\"\n",
    "Tegaki-APIに文字認識をリクエストする\n",
    "リクエストIDが返却される\n",
    "\"\"\"\n",
    "def post_form(template_json_data, form_image_file):\n",
    "    # Read json file\n",
    "    #print(template_json_data)\n",
    "    \n",
    "    # Inject the base64-encoded form image into the template json\n",
    "    template_json_data['imageData'] = encode_image(form_image_file)\n",
    "    # Send POST request to Tegaki service\n",
    "    response = requests.post(TEGAKI_FORM_ENDPOINT,\n",
    "                             headers={'Authorization': 'apikey ' + MY_API_KEY},\n",
    "                             json=template_json_data)\n",
    "    # Print the result\n",
    "    #print(response.json())\n",
    "    return response.json()\n",
    "\n",
    "\n",
    "\"\"\"\n",
    "リクエストIDを元に、文字認識結果および修正結果をリクエストする\n",
    "\"\"\"\n",
    "def get_result(request_id, path_recognized_results):\n",
    "    # Build the endpoint with the request id\n",
    "    endpoint = TEGAKI_REQUEST_ENDPOINT + request_id\n",
    "\n",
    "    # Send GET request\n",
    "    response = requests.get(endpoint, headers={'Authorization': 'apikey {}'.format(MY_API_KEY)})\n",
    "    \n",
    "    path_output = path_recognized_results + \"/\" + request_id + \".json\"\n",
    "    with open(path_output, mode='w') as f:\n",
    "        json.dump(response.json(), f, indent=4, ensure_ascii=False)\n",
    "\n",
    "        \n",
    "\"\"\"\n",
    "テンプレートJSON、Base64画像を元に文字認識をリクエストする\n",
    "\"\"\"\n",
    "def get_request_id(path_template, path_image):\n",
    "    # テンプレートのパス\n",
    "    with open(path_template) as f:\n",
    "        json_temp = json.load(f)\n",
    "        \n",
    "    # 画像の読み込み\n",
    "    image = open(path_image, 'rb')\n",
    "    response = post_form(json_temp, image)\n",
    "    \n",
    "    request_id = response[\"requestId\"]\n",
    "    return request_id\n",
    "\n",
    "\n",
    "\"\"\"\n",
    "手書き文字認識を実施する\n",
    "手書き画像とリクエストIDの紐づけ情報をファイル出力する\n",
    "\"\"\"\n",
    "def exec_image_recognition(path_template, path_images_dir, path_images_reqid_dir):\n",
    "    images_list = get_file_list(path_images_dir)\n",
    "\n",
    "    image_reqid_list = []\n",
    "    for path_img in images_list:\n",
    "        image_reqid = [path_img, get_request_id(path_template, path_img)]\n",
    "        image_reqid_list.append(image_reqid)\n",
    "        \n",
    "    exec_time = datetime.now().strftime(\"%Y%m%d%H%M%S\")\n",
    "    path_image_reqid_list = path_images_reqid_dir + \"/\" + str(exec_time) + \".tsv\"\n",
    "    df = pd.DataFrame(image_reqid_list)\n",
    "\n",
    "    df.to_csv(path_image_reqid_list, sep=\"\\t\", header=False, index=False)\n",
    "    \n",
    "\n",
    "\"\"\"\n",
    "リクエストIDを元に認識結果および修正結果をダウンロードする\n",
    "\"\"\"\n",
    "def exec_results_download(path_images_reqid_file, path_recognized_results):\n",
    "    df_img_req = pd.read_csv(path_images_reqid_file, header=None, sep=\"\\t\")\n",
    "    for index, row in df_img_req.iterrows():\n",
    "        reqid = row[1]\n",
    "        get_result(reqid, path_recognized_results_dir)\n",
    "    \n",
    "    \n",
    "\"\"\"\n",
    "ディレクトリ配下のファイル一覧を取得する\n",
    "\"\"\"\n",
    "def get_file_list(path_dir):\n",
    "    files = glob.glob(path_dir + \"/*\")\n",
    "    file_list = [fname for fname in files]\n",
    "    return file_list\n",
    "\n",
    "\n",
    "\"\"\"\n",
    "リクエストIDを元にデータを削除する\n",
    "\"\"\"\n",
    "def exec_delete_data(path_images_reqid_file):\n",
    "    df_img_req = pd.read_csv(path_images_reqid_file, header=None, sep=\"\\t\")\n",
    "    for index, row in df_img_req.iterrows():\n",
    "        reqid = row[1]\n",
    "        delete_result(reqid)\n",
    "\n",
    "        \n",
    "# Get results from an already send request using the id\n",
    "def delete_result(request_id):\n",
    "    # Build the endpoint with the request id\n",
    "    endpoint = TEGAKI_REQUEST_ENDPOINT + request_id\n",
    "    \n",
    "    # Send DELETE request\n",
    "    response = requests.delete(endpoint, headers={'Authorization': 'apikey {}'.format(MY_API_KEY)})\n",
    "    print(response)\n",
    "    "
   ]
  },
  {
   "cell_type": "markdown",
   "metadata": {},
   "source": [
    "# 手書き文字を認識させる"
   ]
  },
  {
   "cell_type": "code",
   "execution_count": 15,
   "metadata": {},
   "outputs": [],
   "source": [
    "# ========= 2-1. 手書き文字認識用パラメータの読み込み ==========\n",
    "# テンプレートJSONファイル\n",
    "#path_template = \"api_test_data/0001.ポートフォリオ/002.日々の記録/0000.テンプレート/hibi-form-jpg.json\"\n",
    "path_template = \"api_test_data/0001.ポートフォリオ/100.実証第1校/0000.テンプレート/02.氏名なし/template-png_non_name.json\"\n",
    "\n",
    "# 手書き画像が格納されているディレクトリ\n",
    "#path_images_dir = \"api_test_data/0001.ポートフォリオ/002.日々の記録/0001.手書き画像\"\n",
    "path_images_dir = \"api_test_data/0001.ポートフォリオ/100.実証第1校/0001.手書き画像\"\n",
    "\n",
    "# 手書き画像_リクエストIDの紐づけファイルを出力するディレクトリ\n",
    "#path_images_reqid_dir = \"api_test_data/0001.ポートフォリオ/002.日々の記録/0004.手書き画像_リクエストID_対応表\"\n",
    "path_images_reqid_dir = \"api_test_data/0001.ポートフォリオ/100.実証第1校/0004.手書き画像_リクエストID_対応表\"\n"
   ]
  },
  {
   "cell_type": "code",
   "execution_count": 16,
   "metadata": {},
   "outputs": [],
   "source": [
    "# ========= 2-2. 手書き文字認識リクエスト、手書き画像_リクエストID紐付け情報の出力 ==========\n",
    "exec_image_recognition(path_template, path_images_dir, path_images_reqid_dir)\n"
   ]
  },
  {
   "cell_type": "markdown",
   "metadata": {},
   "source": [
    "# 認識結果の取得"
   ]
  },
  {
   "cell_type": "code",
   "execution_count": 17,
   "metadata": {},
   "outputs": [],
   "source": [
    "# ========= 3-1. 認識結果取得用パラメータの読み込み ==========\n",
    "# 手書き画像_リクエストIDの紐づけファイルを取得するディレクトリ\n",
    "#path_images_reqid_file = \"api_test_data/0001.ポートフォリオ/002.日々の記録/0004.手書き画像_リクエストID_対応表/20181219141832.tsv\"\n",
    "path_images_reqid_file = \"api_test_data/0001.ポートフォリオ/100.実証第1校/0004.手書き画像_リクエストID_対応表/20181219145244.tsv\"\n",
    "\n",
    "# 認識結果を出力するディレクトリ\n",
    "#path_recognized_results_dir = \"api_test_data/0001.ポートフォリオ/002.日々の記録/0002.認識結果\"\n",
    "path_recognized_results_dir = \"api_test_data/0001.ポートフォリオ/100.実証第1校/0002.認識結果\"\n"
   ]
  },
  {
   "cell_type": "code",
   "execution_count": 18,
   "metadata": {},
   "outputs": [],
   "source": [
    "# ========= 3-2. 認識結果取得 ==========\n",
    "exec_results_download(path_images_reqid_file, path_recognized_results_dir)\n"
   ]
  },
  {
   "cell_type": "markdown",
   "metadata": {},
   "source": [
    "# 修正結果の取得"
   ]
  },
  {
   "cell_type": "code",
   "execution_count": 21,
   "metadata": {},
   "outputs": [],
   "source": [
    "# ========= 4-1. 修正結果取得用パラメータの読み込み ==========\n",
    "# 手書き画像_リクエストIDの紐づけファイルを取得するディレクトリ\n",
    "#path_images_reqid_file = \"api_test_data/0001.ポートフォリオ/002.日々の記録/0004.手書き画像_リクエストID_対応表/20181219141832.tsv\"\n",
    "path_images_reqid_file = \"api_test_data/0001.ポートフォリオ/100.実証第1校/0004.手書き画像_リクエストID_対応表/20181219145244.tsv\"\n",
    "\n",
    "# 修正結果を出力するディレクトリ\n",
    "#path_recognized_results_dir = \"api_test_data/0001.ポートフォリオ/002.日々の記録/0003.修正結果\"\n",
    "path_recognized_results_dir = \"api_test_data/0001.ポートフォリオ/100.実証第1校/0003.修正結果\"\n"
   ]
  },
  {
   "cell_type": "code",
   "execution_count": 22,
   "metadata": {},
   "outputs": [],
   "source": [
    "# ========= 4-2. 修正結果取得 ==========\n",
    "exec_results_download(path_images_reqid_file, path_recognized_results_dir)\n"
   ]
  },
  {
   "cell_type": "markdown",
   "metadata": {},
   "source": [
    "# データの削除"
   ]
  },
  {
   "cell_type": "code",
   "execution_count": 23,
   "metadata": {},
   "outputs": [],
   "source": [
    "# ========= 5-1. 削除対象リクエストID取得用パラメータの読み込み ==========\n",
    "# 手書き画像_リクエストIDの紐づけファイルを取得するディレクトリ\n",
    "#path_images_reqid_file = \"api_test_data/0001.ポートフォリオ/002.日々の記録/0004.手書き画像_リクエストID_対応表/20181219141832.tsv\"\n",
    "path_images_reqid_file = \"api_test_data/0001.ポートフォリオ/100.実証第1校/0004.手書き画像_リクエストID_対応表/20181219145244.tsv\"\n"
   ]
  },
  {
   "cell_type": "code",
   "execution_count": 24,
   "metadata": {},
   "outputs": [
    {
     "name": "stdout",
     "output_type": "stream",
     "text": [
      "<Response [204]>\n",
      "<Response [204]>\n"
     ]
    }
   ],
   "source": [
    "# ========= 5-2. データ削除 ==========\n",
    "exec_delete_data(path_images_reqid_file)\n"
   ]
  },
  {
   "cell_type": "code",
   "execution_count": null,
   "metadata": {},
   "outputs": [],
   "source": []
  }
 ],
 "metadata": {
  "kernelspec": {
   "display_name": "Python 3",
   "language": "python",
   "name": "python3"
  },
  "language_info": {
   "codemirror_mode": {
    "name": "ipython",
    "version": 3
   },
   "file_extension": ".py",
   "mimetype": "text/x-python",
   "name": "python",
   "nbconvert_exporter": "python",
   "pygments_lexer": "ipython3",
   "version": "3.7.0"
  }
 },
 "nbformat": 4,
 "nbformat_minor": 1
}
